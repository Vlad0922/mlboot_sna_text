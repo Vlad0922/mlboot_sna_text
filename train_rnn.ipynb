{
 "cells": [
  {
   "cell_type": "code",
   "execution_count": 1,
   "metadata": {},
   "outputs": [],
   "source": [
    "%load_ext autoreload\n",
    "%autoreload 2"
   ]
  },
  {
   "cell_type": "code",
   "execution_count": 30,
   "metadata": {},
   "outputs": [],
   "source": [
    "import tqdm\n",
    "from tqdm._tqdm_notebook import tqdm_notebook\n",
    "\n",
    "import gc\n",
    "\n",
    "from sklearn.model_selection import train_test_split, StratifiedKFold\n",
    "\n",
    "import pickle\n",
    "\n",
    "from sklearn.metrics import roc_curve, auc, roc_auc_score\n",
    "\n",
    "from glove import Corpus, Glove\n",
    "\n",
    "import matplotlib.pyplot as plt\n",
    "%matplotlib inline"
   ]
  },
  {
   "cell_type": "code",
   "execution_count": 3,
   "metadata": {},
   "outputs": [],
   "source": [
    "from utils import *\n",
    "from features import *\n",
    "from trainer import *\n",
    "\n",
    "from datasets import LikesFeaturesDataset\n",
    "from networks import NeuralNetFeaturesConv\n",
    "from clr import CyclicLR"
   ]
  },
  {
   "cell_type": "code",
   "execution_count": 4,
   "metadata": {},
   "outputs": [],
   "source": [
    "def auc(labels, scores):\n",
    "    if len(labels) > sum(labels) > 0:\n",
    "        return roc_auc_score(labels, scores)\n",
    "\n",
    "    return np.nan"
   ]
  },
  {
   "cell_type": "code",
   "execution_count": 5,
   "metadata": {},
   "outputs": [],
   "source": [
    "np.random.seed(42)\n",
    "tqdm_notebook.pandas()"
   ]
  },
  {
   "cell_type": "code",
   "execution_count": 15,
   "metadata": {},
   "outputs": [],
   "source": [
    "glove = Glove.load('glove_300_mc4_ink_w10.model')\n",
    "word2index = glove.dictionary\n",
    "embeddings = glove.word_vectors\n",
    "\n",
    "max_seq_len = 64 # max number of words in a question to use\n",
    "embed_size = embeddings.shape[1]"
   ]
  },
  {
   "cell_type": "code",
   "execution_count": 6,
   "metadata": {},
   "outputs": [],
   "source": [
    "input_path = 'input/'\n",
    "\n",
    "TRAIN_TEXTS = os.path.join(input_path, 'texts', 'textsTrain')\n",
    "TRAIN_META = os.path.join(input_path, 'textsTrain')"
   ]
  },
  {
   "cell_type": "code",
   "execution_count": 7,
   "metadata": {},
   "outputs": [],
   "source": [
    "seed_everything(42)"
   ]
  },
  {
   "cell_type": "code",
   "execution_count": 8,
   "metadata": {},
   "outputs": [
    {
     "data": {
      "application/vnd.jupyter.widget-view+json": {
       "model_id": "27530272258d4c9fa4089ba6d6baba82",
       "version_major": 2,
       "version_minor": 0
      },
      "text/plain": [
       "HBox(children=(IntProgress(value=0, max=27), HTML(value='')))"
      ]
     },
     "metadata": {},
     "output_type": "display_data"
    },
    {
     "name": "stdout",
     "output_type": "stream",
     "text": [
      "\n"
     ]
    }
   ],
   "source": [
    "meta = read_metadata(TRAIN_META)\n",
    "texts = read_texts(TRAIN_TEXTS, disable_tqdm=False, tqdm_module=tqdm_notebook)"
   ]
  },
  {
   "cell_type": "code",
   "execution_count": 9,
   "metadata": {},
   "outputs": [],
   "source": [
    "meta['liked'] = [float('Liked' in v) for v in meta.feedback.values]\n",
    "\n",
    "meta['audit_timestamp'] = pd.to_datetime(meta['audit_timestamp'], unit='ms')\n",
    "meta['audit_hour'] = [v.hour for v in meta.audit_timestamp]"
   ]
  },
  {
   "cell_type": "code",
   "execution_count": 10,
   "metadata": {},
   "outputs": [],
   "source": [
    "custom_onehot(meta, 'instanceId_objectType')\n",
    "custom_onehot(meta, 'audit_clientType')\n",
    "custom_onehot(meta, 'audit_hour')"
   ]
  },
  {
   "cell_type": "code",
   "execution_count": 11,
   "metadata": {},
   "outputs": [],
   "source": [
    "bad_objects = get_bad_logs(texts)\n",
    "texts = texts[[not(v in bad_objects) for v in texts.objectId.values]]\n",
    "meta = meta[[not(v in bad_objects) for v in meta.instanceId_objectId.values]]"
   ]
  },
  {
   "cell_type": "code",
   "execution_count": 16,
   "metadata": {},
   "outputs": [],
   "source": [
    "texts['preprocessed'] = [np.array([convert_single(w) for w in seq]) for seq in texts['preprocessed'].values]\n",
    "texts['preprocessed_idx'] = [get_embedding_indexes(word2index, seq, unknown_token='<unk>') for seq in texts.preprocessed.values]\n",
    "\n",
    "texts['text_len'] = [len(seq) for seq in texts.text]\n",
    "texts['token_num'] = [len(seq) for seq in texts.preprocessed]"
   ]
  },
  {
   "cell_type": "code",
   "execution_count": 17,
   "metadata": {},
   "outputs": [],
   "source": [
    "texts.set_index('objectId', inplace=True)\n",
    "\n",
    "meta.rename(columns={'instanceId_objectId': 'objectId'}, inplace=True)\n",
    "meta = meta.join(texts, on='objectId')"
   ]
  },
  {
   "cell_type": "code",
   "execution_count": 18,
   "metadata": {},
   "outputs": [],
   "source": [
    "stat_features = ['instanceId_objectType_Photo', 'instanceId_objectType_Post', 'instanceId_objectType_Video', \n",
    "                'audit_clientType_API', 'audit_clientType_MOB', 'audit_clientType_WEB',\n",
    "                'audit_hour_0', 'audit_hour_1','audit_hour_2', 'audit_hour_3', 'audit_hour_4', 'audit_hour_5',\n",
    "                'audit_hour_6', 'audit_hour_7', 'audit_hour_8', 'audit_hour_9','audit_hour_10', 'audit_hour_11',\n",
    "                'audit_hour_12', 'audit_hour_13', 'audit_hour_14', 'audit_hour_15', 'audit_hour_16', 'audit_hour_17',\n",
    "                'audit_hour_18', 'audit_hour_19', 'audit_hour_20', 'audit_hour_21', 'audit_hour_22', 'audit_hour_23',\n",
    "                'text_len', 'token_num']"
   ]
  },
  {
   "cell_type": "code",
   "execution_count": 19,
   "metadata": {},
   "outputs": [],
   "source": [
    "data_train, data_test = train_test_split(meta, test_size=0.2)"
   ]
  },
  {
   "cell_type": "code",
   "execution_count": 20,
   "metadata": {},
   "outputs": [],
   "source": [
    "# dont know why but at first creation of module I get cuDNN error.\n",
    "# however, on second creation and further its ok\n",
    "\n",
    "try:\n",
    "    model = NeuralNetFeaturesConv(embeddings, max_seq_len=max_seq_len, embed_size=embed_size,\n",
    "                                  hidden_size=30, n_features=len(stat_features), train_embed=False)\n",
    "    model.cuda()\n",
    "except:\n",
    "    del model\n",
    "    gc.collect()"
   ]
  },
  {
   "cell_type": "code",
   "execution_count": null,
   "metadata": {},
   "outputs": [],
   "source": []
  },
  {
   "cell_type": "code",
   "execution_count": 21,
   "metadata": {},
   "outputs": [],
   "source": [
    "batch_size = 512*4\n",
    "kwargs = {'num_workers': 4, 'pin_memory': True}\n",
    "\n",
    "train_dataset = LikesFeaturesDataset(data_train, stat_features, max_seq_len, idx_col='preprocessed_idx') \n",
    "test_dataset = LikesFeaturesDataset(data_test, stat_features, max_seq_len, idx_col='preprocessed_idx')\n",
    "\n",
    "train_loader = torch.utils.data.DataLoader(train_dataset, batch_size=batch_size, shuffle=True, **kwargs)\n",
    "test_loader = torch.utils.data.DataLoader(test_dataset, batch_size=batch_size, shuffle=False, **kwargs)\n",
    "\n",
    "model = NeuralNetFeaturesConv(embeddings,  max_seq_len=max_seq_len, embed_size=embed_size,\n",
    "                              hidden_size=64, n_features=len(stat_features),train_embed=False)\n",
    "model.cuda()\n",
    "\n",
    "loss_fn = torch.nn.BCELoss()\n",
    "lr = 1e-3\n",
    "optimizer = torch.optim.Adam(model.parameters(), lr=lr)\n",
    "scheduler = CyclicLR(optimizer, step_size=10*len(train_loader), mode='exp_range', gamma=0.99999)\n",
    "n_epochs = 5"
   ]
  },
  {
   "cell_type": "code",
   "execution_count": 44,
   "metadata": {},
   "outputs": [],
   "source": [
    "optimizer = torch.optim.Adam(model.parameters(), lr=lr)\n",
    "scheduler = CyclicLR(optimizer, step_size=10*len(train_loader), mode='exp_range', gamma=0.99999)\n",
    "\n",
    "lr_list = list()\n",
    "\n",
    "for _ in range(20*len(train_loader)):\n",
    "    lr_list.append(scheduler.get_lr())\n",
    "    \n",
    "    scheduler.batch_step()"
   ]
  },
  {
   "cell_type": "code",
   "execution_count": 46,
   "metadata": {},
   "outputs": [
    {
     "data": {
      "text/plain": [
       "[<matplotlib.lines.Line2D at 0x7fe10a91c160>]"
      ]
     },
     "execution_count": 46,
     "metadata": {},
     "output_type": "execute_result"
    },
    {
     "data": {
      "image/png": "[encoded data removed]",
      "text/plain": [
       "<Figure size 432x288 with 1 Axes>"
      ]
     },
     "metadata": {
      "needs_background": "light"
     },
     "output_type": "display_data"
    }
   ],
   "source": [
    "# Learning rate during training\n",
    "plt.plot(lr_list)"
   ]
  },
  {
   "cell_type": "code",
   "execution_count": 47,
   "metadata": {},
   "outputs": [],
   "source": [
    "optimizer = torch.optim.Adam(model.parameters(), lr=lr)\n",
    "scheduler = CyclicLR(optimizer, step_size=10*len(train_loader), mode='exp_range', gamma=0.99999)"
   ]
  },
  {
   "cell_type": "code",
   "execution_count": 22,
   "metadata": {},
   "outputs": [
    {
     "data": {
      "application/vnd.jupyter.widget-view+json": {
       "model_id": "a4b3c76651254fab8bd4868db629d5b8",
       "version_major": 2,
       "version_minor": 0
      },
      "text/plain": [
       "HBox(children=(IntProgress(value=0, max=5), HTML(value='')))"
      ]
     },
     "metadata": {},
     "output_type": "display_data"
    },
    {
     "data": {
      "application/vnd.jupyter.widget-view+json": {
       "model_id": "",
       "version_major": 2,
       "version_minor": 0
      },
      "text/plain": [
       "HBox(children=(IntProgress(value=0, max=6769), HTML(value='')))"
      ]
     },
     "metadata": {},
     "output_type": "display_data"
    },
    {
     "data": {
      "application/vnd.jupyter.widget-view+json": {
       "model_id": "",
       "version_major": 2,
       "version_minor": 0
      },
      "text/plain": [
       "HBox(children=(IntProgress(value=0, max=6769), HTML(value='')))"
      ]
     },
     "metadata": {},
     "output_type": "display_data"
    },
    {
     "data": {
      "application/vnd.jupyter.widget-view+json": {
       "model_id": "",
       "version_major": 2,
       "version_minor": 0
      },
      "text/plain": [
       "HBox(children=(IntProgress(value=0, max=6769), HTML(value='')))"
      ]
     },
     "metadata": {},
     "output_type": "display_data"
    },
    {
     "data": {
      "application/vnd.jupyter.widget-view+json": {
       "model_id": "",
       "version_major": 2,
       "version_minor": 0
      },
      "text/plain": [
       "HBox(children=(IntProgress(value=0, max=6769), HTML(value='')))"
      ]
     },
     "metadata": {},
     "output_type": "display_data"
    },
    {
     "data": {
      "application/vnd.jupyter.widget-view+json": {
       "model_id": "",
       "version_major": 2,
       "version_minor": 0
      },
      "text/plain": [
       "HBox(children=(IntProgress(value=0, max=6769), HTML(value='')))"
      ]
     },
     "metadata": {},
     "output_type": "display_data"
    },
    {
     "name": "stdout",
     "output_type": "stream",
     "text": [
      "\n"
     ]
    }
   ],
   "source": [
    "# for this notebook I quickly trained nn for only 5 epochs.  \n",
    "# However, training for 20 epochs provided a little better results but took much more time.\n",
    "train_history = list()\n",
    "val_history = list()\n",
    "roc_history = list()\n",
    "\n",
    "for epoch in tqdm.tnrange(n_epochs):\n",
    "    train_loss = train_epoch(train_loader, model, loss_fn, optimizer, scheduler, tqdm_module=tqdm_notebook)\n",
    "    val_loss = test_epoch(test_loader, model, loss_fn)\n",
    "        \n",
    "    train_history.append(train_loss)\n",
    "    val_history.append(val_loss)    "
   ]
  },
  {
   "cell_type": "code",
   "execution_count": 25,
   "metadata": {},
   "outputs": [
    {
     "name": "stderr",
     "output_type": "stream",
     "text": [
      "/home/vladka/anaconda3/envs/mlboot_bert/lib/python3.6/site-packages/ipykernel_launcher.py:2: SettingWithCopyWarning: \n",
      "A value is trying to be set on a copy of a slice from a DataFrame.\n",
      "Try using .loc[row_indexer,col_indexer] = value instead\n",
      "\n",
      "See the caveats in the documentation: http://pandas.pydata.org/pandas-docs/stable/indexing.html#indexing-view-versus-copy\n",
      "  \n"
     ]
    }
   ],
   "source": [
    "logits = predict(model, test_loader).flatten()\n",
    "data_test['scores'] = logits"
   ]
  },
  {
   "cell_type": "code",
   "execution_count": 27,
   "metadata": {},
   "outputs": [],
   "source": [
    "roc_loss = data_test.groupby('instanceId_userId').apply(lambda y: auc(y.liked.values, y.scores.values)).dropna().mean()"
   ]
  },
  {
   "cell_type": "code",
   "execution_count": 28,
   "metadata": {},
   "outputs": [
    {
     "name": "stdout",
     "output_type": "stream",
     "text": [
      "0.6482126564531246\n"
     ]
    }
   ],
   "source": [
    "print(roc_loss)"
   ]
  },
  {
   "cell_type": "code",
   "execution_count": 31,
   "metadata": {},
   "outputs": [
    {
     "data": {
      "text/plain": [
       "<matplotlib.legend.Legend at 0x7fe02116b828>"
      ]
     },
     "execution_count": 31,
     "metadata": {},
     "output_type": "execute_result"
    },
    {
     "data": {
      "image/png": "[encoded data removed]",
      "text/plain": [
       "<Figure size 432x288 with 1 Axes>"
      ]
     },
     "metadata": {
      "needs_background": "light"
     },
     "output_type": "display_data"
    }
   ],
   "source": [
    "plt.plot(train_history, label='train')\n",
    "plt.plot(val_history, label='val')\n",
    "\n",
    "plt.legend()"
   ]
  },
  {
   "cell_type": "code",
   "execution_count": null,
   "metadata": {},
   "outputs": [],
   "source": []
  },
  {
   "cell_type": "code",
   "execution_count": null,
   "metadata": {},
   "outputs": [],
   "source": []
  }
 ],
 "metadata": {
  "kernelspec": {
   "display_name": "Python 3",
   "language": "python",
   "name": "python3"
  },
  "language_info": {
   "codemirror_mode": {
    "name": "ipython",
    "version": 3
   },
   "file_extension": ".py",
   "mimetype": "text/x-python",
   "name": "python",
   "nbconvert_exporter": "python",
   "pygments_lexer": "ipython3",
   "version": "3.6.8"
  }
 },
 "nbformat": 4,
 "nbformat_minor": 2
}
