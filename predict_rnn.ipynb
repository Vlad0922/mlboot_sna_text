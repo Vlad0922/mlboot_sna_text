{
 "cells": [
  {
   "cell_type": "code",
   "execution_count": 1,
   "metadata": {},
   "outputs": [],
   "source": [
    "import pickle\n",
    "\n",
    "import gc\n",
    "\n",
    "import tqdm\n",
    "from tqdm._tqdm_notebook import tqdm_notebook\n",
    "\n",
    "from glove import Corpus, Glove"
   ]
  },
  {
   "cell_type": "code",
   "execution_count": 4,
   "metadata": {},
   "outputs": [],
   "source": [
    "from utils import *\n",
    "from features import *\n",
    "from trainer import *\n",
    "\n",
    "from datasets import LikesFeaturesDataset\n",
    "from networks import NeuralNetFeaturesConv"
   ]
  },
  {
   "cell_type": "code",
   "execution_count": 5,
   "metadata": {},
   "outputs": [],
   "source": [
    "seed_everything(42)"
   ]
  },
  {
   "cell_type": "code",
   "execution_count": 6,
   "metadata": {},
   "outputs": [],
   "source": [
    "input_path = 'input/'\n",
    "\n",
    "TEST_META = os.path.join(input_path, 'textsTest')\n",
    "TEST_TEXTS = os.path.join(input_path, 'texts', 'textsTest')"
   ]
  },
  {
   "cell_type": "code",
   "execution_count": 7,
   "metadata": {},
   "outputs": [],
   "source": [
    "glove = Glove.load('glove_300_mc4_ink_w10.model')\n",
    "word2index = glove.dictionary\n",
    "embeddings = glove.word_vectors\n",
    "\n",
    "max_seq_len = 64 # max number of words in a question to use\n",
    "embed_size = embeddings.shape[1]"
   ]
  },
  {
   "cell_type": "code",
   "execution_count": 8,
   "metadata": {},
   "outputs": [],
   "source": [
    "test_meta = read_texts(TEST_META)\n",
    "test_texts = read_texts(TEST_TEXTS)"
   ]
  },
  {
   "cell_type": "code",
   "execution_count": 9,
   "metadata": {},
   "outputs": [],
   "source": [
    "test_meta['audit_timestamp'] = pd.to_datetime(test_meta['audit_timestamp'], unit='ms')\n",
    "test_meta['audit_hour'] = [v.hour for v in test_meta.audit_timestamp]"
   ]
  },
  {
   "cell_type": "code",
   "execution_count": 10,
   "metadata": {},
   "outputs": [],
   "source": [
    "custom_onehot(test_meta, 'instanceId_objectType')\n",
    "custom_onehot(test_meta, 'audit_clientType')\n",
    "custom_onehot(test_meta, 'audit_hour')"
   ]
  },
  {
   "cell_type": "code",
   "execution_count": null,
   "metadata": {},
   "outputs": [],
   "source": [
    "test_texts['preprocessed'] = [np.array([convert_single(w) for w in seq]) for seq in test_texts.preprocessed.values]\n",
    "test_texts['preprocessed_idx'] = [get_embedding_indexes(word2index, seq, unknown_token='<unk>') for seq in test_texts.preprocessed.values]\n",
    "\n",
    "test_texts['text_len'] = [len(seq) for seq in test_texts.text]\n",
    "test_texts['token_num'] = [len(seq) for seq in test_texts.preprocessed]"
   ]
  },
  {
   "cell_type": "code",
   "execution_count": 29,
   "metadata": {},
   "outputs": [],
   "source": [
    "test_texts = test_texts.drop_duplicates('objectId').set_index('objectId')"
   ]
  },
  {
   "cell_type": "code",
   "execution_count": 30,
   "metadata": {},
   "outputs": [],
   "source": [
    "test_meta.rename(columns={'instanceId_objectId': 'objectId'}, inplace=True)\n",
    "test_meta = test_meta.join(test_texts, on='objectId')"
   ]
  },
  {
   "cell_type": "code",
   "execution_count": 32,
   "metadata": {},
   "outputs": [],
   "source": [
    "stat_features = ['type_photo', 'type_post', 'type_video', \n",
    "                 'clientType_API', 'clientType_MOB', 'clientType_WEB',\n",
    "                'audit_hour_0', 'audit_hour_1',\n",
    "       'audit_hour_2', 'audit_hour_3', 'audit_hour_4', 'audit_hour_5',\n",
    "       'audit_hour_6', 'audit_hour_7', 'audit_hour_8', 'audit_hour_9',\n",
    "       'audit_hour_10', 'audit_hour_11', 'audit_hour_12', 'audit_hour_13',\n",
    "       'audit_hour_14', 'audit_hour_15', 'audit_hour_16', 'audit_hour_17',\n",
    "       'audit_hour_18', 'audit_hour_19', 'audit_hour_20', 'audit_hour_21',\n",
    "       'audit_hour_22', 'audit_hour_23','text_len', 'token_num']"
   ]
  },
  {
   "cell_type": "code",
   "execution_count": null,
   "metadata": {},
   "outputs": [],
   "source": []
  },
  {
   "cell_type": "code",
   "execution_count": 34,
   "metadata": {},
   "outputs": [
    {
     "data": {
      "application/vnd.jupyter.widget-view+json": {
       "model_id": "3c3959a3471c4ba9aaf74e3a7bba412b",
       "version_major": 2,
       "version_minor": 0
      },
      "text/plain": [
       "HBox(children=(IntProgress(value=0, max=523), HTML(value='')))"
      ]
     },
     "metadata": {},
     "output_type": "display_data"
    },
    {
     "name": "stdout",
     "output_type": "stream",
     "text": [
      "\n"
     ]
    },
    {
     "data": {
      "application/vnd.jupyter.widget-view+json": {
       "model_id": "8effd65de39d4e429ca073c00cbaaa06",
       "version_major": 2,
       "version_minor": 0
      },
      "text/plain": [
       "HBox(children=(IntProgress(value=0, max=523), HTML(value='')))"
      ]
     },
     "metadata": {},
     "output_type": "display_data"
    },
    {
     "name": "stdout",
     "output_type": "stream",
     "text": [
      "\n"
     ]
    },
    {
     "data": {
      "application/vnd.jupyter.widget-view+json": {
       "model_id": "25359d5f422946768e785baa553863a1",
       "version_major": 2,
       "version_minor": 0
      },
      "text/plain": [
       "HBox(children=(IntProgress(value=0, max=523), HTML(value='')))"
      ]
     },
     "metadata": {},
     "output_type": "display_data"
    },
    {
     "name": "stdout",
     "output_type": "stream",
     "text": [
      "\n"
     ]
    },
    {
     "data": {
      "application/vnd.jupyter.widget-view+json": {
       "model_id": "cb28091b9bd24fca9a662b0c2ff2b397",
       "version_major": 2,
       "version_minor": 0
      },
      "text/plain": [
       "HBox(children=(IntProgress(value=0, max=523), HTML(value='')))"
      ]
     },
     "metadata": {},
     "output_type": "display_data"
    },
    {
     "name": "stdout",
     "output_type": "stream",
     "text": [
      "\n"
     ]
    },
    {
     "data": {
      "application/vnd.jupyter.widget-view+json": {
       "model_id": "920f7fc46bfc4ee89df80f2df0d83a5e",
       "version_major": 2,
       "version_minor": 0
      },
      "text/plain": [
       "HBox(children=(IntProgress(value=0, max=523), HTML(value='')))"
      ]
     },
     "metadata": {},
     "output_type": "display_data"
    },
    {
     "name": "stdout",
     "output_type": "stream",
     "text": [
      "\n"
     ]
    }
   ],
   "source": [
    "all_logits = list()\n",
    "\n",
    "for model_fname in glob.glob(os.path.join('models', '*glove_features*.pth')):\n",
    "    batch_size = 512*4\n",
    "    kwargs = {'num_workers': 4, 'pin_memory': True}\n",
    "\n",
    "    test_dataset = LikesFeaturesDataset(test_meta, stat_features, max_seq_len, is_train=False) \n",
    "    test_loader = torch.utils.data.DataLoader(test_dataset, batch_size=batch_size, shuffle=False, **kwargs)\n",
    "    \n",
    "    model = NeuralNetFeatures(embeddings, hidden_size=30, n_features=len(stat_features), train_embed=False)\n",
    "    model.load_state_dict(torch.load(model_fname))\n",
    "    model.cuda()\n",
    "    \n",
    "    test_logits = predict(model, test_loader)\n",
    "    \n",
    "    all_logits.append(test_logits)\n",
    "    \n",
    "    del model\n",
    "    gc.collect()"
   ]
  },
  {
   "cell_type": "code",
   "execution_count": 65,
   "metadata": {},
   "outputs": [],
   "source": [
    "test_meta['score'] = np.mean(all_logits, axis=0).flatten()"
   ]
  },
  {
   "cell_type": "code",
   "execution_count": 69,
   "metadata": {},
   "outputs": [],
   "source": [
    "scores = test_meta[['instanceId_userId', 'objectId', 'score']].groupby(['instanceId_userId','objectId']).min()"
   ]
  },
  {
   "cell_type": "code",
   "execution_count": 73,
   "metadata": {},
   "outputs": [
    {
     "data": {
      "text/html": [
       "<div>\n",
       "<style scoped>\n",
       "    .dataframe tbody tr th:only-of-type {\n",
       "        vertical-align: middle;\n",
       "    }\n",
       "\n",
       "    .dataframe tbody tr th {\n",
       "        vertical-align: top;\n",
       "    }\n",
       "\n",
       "    .dataframe thead th {\n",
       "        text-align: right;\n",
       "    }\n",
       "</style>\n",
       "<table border=\"1\" class=\"dataframe\">\n",
       "  <thead>\n",
       "    <tr style=\"text-align: right;\">\n",
       "      <th></th>\n",
       "      <th>instanceId_userId</th>\n",
       "      <th>objectId</th>\n",
       "      <th>score</th>\n",
       "    </tr>\n",
       "  </thead>\n",
       "  <tbody>\n",
       "    <tr>\n",
       "      <th>0</th>\n",
       "      <td>316</td>\n",
       "      <td>37758420</td>\n",
       "      <td>0.854000</td>\n",
       "    </tr>\n",
       "    <tr>\n",
       "      <th>1</th>\n",
       "      <td>316</td>\n",
       "      <td>17997084</td>\n",
       "      <td>0.889557</td>\n",
       "    </tr>\n",
       "    <tr>\n",
       "      <th>2</th>\n",
       "      <td>631</td>\n",
       "      <td>38118098</td>\n",
       "      <td>0.808741</td>\n",
       "    </tr>\n",
       "    <tr>\n",
       "      <th>3</th>\n",
       "      <td>631</td>\n",
       "      <td>30513650</td>\n",
       "      <td>0.876078</td>\n",
       "    </tr>\n",
       "    <tr>\n",
       "      <th>4</th>\n",
       "      <td>631</td>\n",
       "      <td>15478935</td>\n",
       "      <td>0.905036</td>\n",
       "    </tr>\n",
       "    <tr>\n",
       "      <th>5</th>\n",
       "      <td>742</td>\n",
       "      <td>24302446</td>\n",
       "      <td>0.798907</td>\n",
       "    </tr>\n",
       "    <tr>\n",
       "      <th>6</th>\n",
       "      <td>742</td>\n",
       "      <td>34685448</td>\n",
       "      <td>0.806949</td>\n",
       "    </tr>\n",
       "    <tr>\n",
       "      <th>7</th>\n",
       "      <td>742</td>\n",
       "      <td>28816291</td>\n",
       "      <td>0.808411</td>\n",
       "    </tr>\n",
       "    <tr>\n",
       "      <th>8</th>\n",
       "      <td>742</td>\n",
       "      <td>10672856</td>\n",
       "      <td>0.866551</td>\n",
       "    </tr>\n",
       "    <tr>\n",
       "      <th>9</th>\n",
       "      <td>868</td>\n",
       "      <td>30143153</td>\n",
       "      <td>0.760127</td>\n",
       "    </tr>\n",
       "  </tbody>\n",
       "</table>\n",
       "</div>"
      ],
      "text/plain": [
       "   instanceId_userId  objectId     score\n",
       "0                316  37758420  0.854000\n",
       "1                316  17997084  0.889557\n",
       "2                631  38118098  0.808741\n",
       "3                631  30513650  0.876078\n",
       "4                631  15478935  0.905036\n",
       "5                742  24302446  0.798907\n",
       "6                742  34685448  0.806949\n",
       "7                742  28816291  0.808411\n",
       "8                742  10672856  0.866551\n",
       "9                868  30143153  0.760127"
      ]
     },
     "execution_count": 73,
     "metadata": {},
     "output_type": "execute_result"
    }
   ],
   "source": [
    "result = scores.sort_values(by=['instanceId_userId', 'score']).reset_index()\n",
    "result.head(10)"
   ]
  },
  {
   "cell_type": "code",
   "execution_count": 74,
   "metadata": {},
   "outputs": [
    {
     "data": {
      "text/plain": [
       "instanceId_userId\n",
       "316                                  [37758420, 17997084]\n",
       "631                        [38118098, 30513650, 15478935]\n",
       "742              [24302446, 34685448, 28816291, 10672856]\n",
       "868     [30143153, 35655697, 29650308, 29193052, 22115...\n",
       "979                                   [37950972, 7996257]\n",
       "1006                                 [37520199, 34577503]\n",
       "1276                       [22812401, 36856262, 31000576]\n",
       "1444                                 [36806487, 20963755]\n",
       "1483                                 [34991228, 38036543]\n",
       "1618                         [26764305, 546086, 35981492]\n",
       "Name: objectId, dtype: object"
      ]
     },
     "execution_count": 74,
     "metadata": {},
     "output_type": "execute_result"
    }
   ],
   "source": [
    "submit = result.groupby(\"instanceId_userId\")['objectId'].apply(list)\n",
    "submit.head(10)"
   ]
  },
  {
   "cell_type": "code",
   "execution_count": 75,
   "metadata": {},
   "outputs": [],
   "source": [
    "submit.to_csv(\"last_submit.csv.gz\", header = False, compression='gzip')"
   ]
  },
  {
   "cell_type": "code",
   "execution_count": null,
   "metadata": {},
   "outputs": [],
   "source": []
  }
 ],
 "metadata": {
  "kernelspec": {
   "display_name": "Python 3",
   "language": "python",
   "name": "python3"
  },
  "language_info": {
   "codemirror_mode": {
    "name": "ipython",
    "version": 3
   },
   "file_extension": ".py",
   "mimetype": "text/x-python",
   "name": "python",
   "nbconvert_exporter": "python",
   "pygments_lexer": "ipython3",
   "version": "3.6.8"
  }
 },
 "nbformat": 4,
 "nbformat_minor": 2
}
